{
 "cells": [
  {
   "cell_type": "code",
   "execution_count": 1,
   "metadata": {},
   "outputs": [],
   "source": [
    "import pandas as pd\n",
    "import os\n",
    "import random\n",
    "from sklearn.model_selection import train_test_split\n",
    "from sklearn.preprocessing import MinMaxScaler\n",
    "\n",
    "\n",
    "# Enter path to the data_fusion_guest_lecture file\n",
    "image_folder_path = r'C:\\Users\\Lenovo\\Documents\\UM\\Period 4\\Data Fusion\\asd\\seedling_labels_with_features_and_predictions.csv'\n",
    "\n",
    "# Loads labels\n",
    "df = pd.read_csv(image_folder_path)\n",
    "\n",
    "#df = df.drop(columns=['Pos','average_expert'])\n",
    "#df = df.iloc[:, -8:]\n",
    "decisions = df.loc[:,['Expert 1','Expert 2','Expert 3', 'Expert 4']]"
   ]
  },
  {
   "cell_type": "code",
   "execution_count": 5,
   "metadata": {},
   "outputs": [
    {
     "data": {
      "text/html": [
       "<div>\n",
       "<style scoped>\n",
       "    .dataframe tbody tr th:only-of-type {\n",
       "        vertical-align: middle;\n",
       "    }\n",
       "\n",
       "    .dataframe tbody tr th {\n",
       "        vertical-align: top;\n",
       "    }\n",
       "\n",
       "    .dataframe thead th {\n",
       "        text-align: right;\n",
       "    }\n",
       "</style>\n",
       "<table border=\"1\" class=\"dataframe\">\n",
       "  <thead>\n",
       "    <tr style=\"text-align: right;\">\n",
       "      <th></th>\n",
       "      <th>plant_width_side_view</th>\n",
       "      <th>plant_height_side_view</th>\n",
       "      <th>plant_area_side_view</th>\n",
       "      <th>plant_width_top_view</th>\n",
       "      <th>plant_height_top_view</th>\n",
       "      <th>plant_area_top_view</th>\n",
       "      <th>Expert 1</th>\n",
       "      <th>Expert 2</th>\n",
       "      <th>Expert 3</th>\n",
       "      <th>Expert 4</th>\n",
       "    </tr>\n",
       "  </thead>\n",
       "  <tbody>\n",
       "    <tr>\n",
       "      <th>0</th>\n",
       "      <td>120</td>\n",
       "      <td>239</td>\n",
       "      <td>8577</td>\n",
       "      <td>263</td>\n",
       "      <td>277</td>\n",
       "      <td>18368</td>\n",
       "      <td>0</td>\n",
       "      <td>0</td>\n",
       "      <td>0</td>\n",
       "      <td>0</td>\n",
       "    </tr>\n",
       "    <tr>\n",
       "      <th>1</th>\n",
       "      <td>591</td>\n",
       "      <td>407</td>\n",
       "      <td>29037</td>\n",
       "      <td>585</td>\n",
       "      <td>548</td>\n",
       "      <td>85112</td>\n",
       "      <td>1</td>\n",
       "      <td>1</td>\n",
       "      <td>1</td>\n",
       "      <td>1</td>\n",
       "    </tr>\n",
       "    <tr>\n",
       "      <th>2</th>\n",
       "      <td>388</td>\n",
       "      <td>449</td>\n",
       "      <td>31946</td>\n",
       "      <td>450</td>\n",
       "      <td>692</td>\n",
       "      <td>86757</td>\n",
       "      <td>1</td>\n",
       "      <td>1</td>\n",
       "      <td>1</td>\n",
       "      <td>1</td>\n",
       "    </tr>\n",
       "    <tr>\n",
       "      <th>3</th>\n",
       "      <td>92</td>\n",
       "      <td>242</td>\n",
       "      <td>8694</td>\n",
       "      <td>281</td>\n",
       "      <td>276</td>\n",
       "      <td>23174</td>\n",
       "      <td>0</td>\n",
       "      <td>0</td>\n",
       "      <td>0</td>\n",
       "      <td>0</td>\n",
       "    </tr>\n",
       "    <tr>\n",
       "      <th>4</th>\n",
       "      <td>582</td>\n",
       "      <td>494</td>\n",
       "      <td>42052</td>\n",
       "      <td>670</td>\n",
       "      <td>534</td>\n",
       "      <td>102178</td>\n",
       "      <td>0</td>\n",
       "      <td>1</td>\n",
       "      <td>1</td>\n",
       "      <td>1</td>\n",
       "    </tr>\n",
       "  </tbody>\n",
       "</table>\n",
       "</div>"
      ],
      "text/plain": [
       "   plant_width_side_view  plant_height_side_view  plant_area_side_view  \\\n",
       "0                    120                     239                  8577   \n",
       "1                    591                     407                 29037   \n",
       "2                    388                     449                 31946   \n",
       "3                     92                     242                  8694   \n",
       "4                    582                     494                 42052   \n",
       "\n",
       "   plant_width_top_view  plant_height_top_view  plant_area_top_view  Expert 1  \\\n",
       "0                   263                    277                18368         0   \n",
       "1                   585                    548                85112         1   \n",
       "2                   450                    692                86757         1   \n",
       "3                   281                    276                23174         0   \n",
       "4                   670                    534               102178         0   \n",
       "\n",
       "   Expert 2  Expert 3  Expert 4  \n",
       "0         0         0         0  \n",
       "1         1         1         1  \n",
       "2         1         1         1  \n",
       "3         0         0         0  \n",
       "4         1         1         1  "
      ]
     },
     "execution_count": 5,
     "metadata": {},
     "output_type": "execute_result"
    }
   ],
   "source": [
    "# Define a function to convert the values to binary\n",
    "def convert_to_binary(x):\n",
    "    if x in [1, 2]:\n",
    "        return 1\n",
    "    else:\n",
    "        return 0\n",
    "\n",
    "# Apply the function to each element in the dataframe\n",
    "decisions = decisions.applymap(convert_to_binary)\n",
    "features = df.iloc[:,10:16]\n",
    "voting = pd.concat([features,decisions],axis = 1)\n",
    "voting.head()"
   ]
  },
  {
   "cell_type": "code",
   "execution_count": 7,
   "metadata": {},
   "outputs": [
    {
     "name": "stdout",
     "output_type": "stream",
     "text": [
      "   plant_width_side_view  plant_height_side_view  plant_area_side_view  \\\n",
      "0                    120                     239                  8577   \n",
      "1                    591                     407                 29037   \n",
      "2                    388                     449                 31946   \n",
      "3                     92                     242                  8694   \n",
      "4                    582                     494                 42052   \n",
      "\n",
      "   plant_width_top_view  plant_height_top_view  plant_area_top_view  Expert 1  \\\n",
      "0                   263                    277                18368         0   \n",
      "1                   585                    548                85112         1   \n",
      "2                   450                    692                86757         1   \n",
      "3                   281                    276                23174         0   \n",
      "4                   670                    534               102178         0   \n",
      "\n",
      "   Expert 2  Expert 3  Expert 4  majority  \n",
      "0         0         0         0         0  \n",
      "1         1         1         1         1  \n",
      "2         1         1         1         1  \n",
      "3         0         0         0         0  \n",
      "4         1         1         1         1  \n"
     ]
    }
   ],
   "source": [
    "##MAJORITY VOTING\n",
    "\n",
    "# Define the fusion rule (majority voting)\n",
    "def majority_voting(expert_decisions):\n",
    "    return int(expert_decisions.mean() > 0.5)\n",
    "\n",
    "# Apply the fusion rule to the dataset\n",
    "voting['majority'] = decisions.apply(majority_voting, axis=1)\n",
    "# Print the final classifications\n",
    "print(voting.head())\n"
   ]
  },
  {
   "cell_type": "code",
   "execution_count": 8,
   "metadata": {},
   "outputs": [
    {
     "name": "stdout",
     "output_type": "stream",
     "text": [
      "   plant_width_side_view  plant_height_side_view  plant_area_side_view  \\\n",
      "0                    120                     239                  8577   \n",
      "1                    591                     407                 29037   \n",
      "2                    388                     449                 31946   \n",
      "3                     92                     242                  8694   \n",
      "4                    582                     494                 42052   \n",
      "\n",
      "   plant_width_top_view  plant_height_top_view  plant_area_top_view  Expert 1  \\\n",
      "0                   263                    277                18368         0   \n",
      "1                   585                    548                85112         1   \n",
      "2                   450                    692                86757         1   \n",
      "3                   281                    276                23174         0   \n",
      "4                   670                    534               102178         0   \n",
      "\n",
      "   Expert 2  Expert 3  Expert 4  majority  bayes_consensus  \n",
      "0         0         0         0         0                0  \n",
      "1         1         1         1         1                0  \n",
      "2         1         1         1         1                0  \n",
      "3         0         0         0         0                0  \n",
      "4         1         1         1         1                0  \n"
     ]
    }
   ],
   "source": [
    "from scipy.stats import beta\n",
    "# Define the fusion function\n",
    "def bayesian_fusion(expert_decisions):\n",
    "    # Compute the beta distribution parameters based on expert decisions\n",
    "    alpha = expert_decisions.sum()\n",
    "    beta_ = expert_decisions.size - alpha\n",
    "    \n",
    "    # Compute the posterior probability distribution\n",
    "    p = beta.cdf(0.5, alpha, beta_)\n",
    "    \n",
    "    return p\n",
    "\n",
    "# Apply the fusion function to the dataset\n",
    "voting['bayes_consensus'] = decisions.apply(bayesian_fusion, axis=1)\n",
    "\n",
    "# Define the decision threshold\n",
    "threshold = 0.5\n",
    "\n",
    "# Make final classification decisions based on the threshold\n",
    "voting['bayes_consensus'] = (voting['bayes_consensus'] > threshold).astype(int)\n",
    "print(voting.head())"
   ]
  },
  {
   "cell_type": "code",
   "execution_count": 85,
   "metadata": {},
   "outputs": [],
   "source": [
    "import numpy as np\n",
    "from sklearn.model_selection import train_test_split\n",
    "from sklearn.metrics import accuracy_score\n",
    "from sklearn.ensemble import RandomForestClassifier, AdaBoostClassifier, VotingClassifier\n",
    "from sklearn.linear_model import LogisticRegression\n",
    "from sklearn.naive_bayes import GaussianNB\n",
    "from scipy.stats import mode\n",
    "from scipy.stats import bayes_mvs\n",
    "\n",
    "X = voting.iloc[:, 0:7]\n",
    "y = voting['majority']\n",
    "\n",
    "X_train, X_test, y_train, y_test = train_test_split(X, y, test_size=0.2, random_state=57)\n"
   ]
  },
  {
   "cell_type": "code",
   "execution_count": 71,
   "metadata": {},
   "outputs": [
    {
     "data": {
      "text/html": [
       "<style>#sk-container-id-2 {color: black;background-color: white;}#sk-container-id-2 pre{padding: 0;}#sk-container-id-2 div.sk-toggleable {background-color: white;}#sk-container-id-2 label.sk-toggleable__label {cursor: pointer;display: block;width: 100%;margin-bottom: 0;padding: 0.3em;box-sizing: border-box;text-align: center;}#sk-container-id-2 label.sk-toggleable__label-arrow:before {content: \"▸\";float: left;margin-right: 0.25em;color: #696969;}#sk-container-id-2 label.sk-toggleable__label-arrow:hover:before {color: black;}#sk-container-id-2 div.sk-estimator:hover label.sk-toggleable__label-arrow:before {color: black;}#sk-container-id-2 div.sk-toggleable__content {max-height: 0;max-width: 0;overflow: hidden;text-align: left;background-color: #f0f8ff;}#sk-container-id-2 div.sk-toggleable__content pre {margin: 0.2em;color: black;border-radius: 0.25em;background-color: #f0f8ff;}#sk-container-id-2 input.sk-toggleable__control:checked~div.sk-toggleable__content {max-height: 200px;max-width: 100%;overflow: auto;}#sk-container-id-2 input.sk-toggleable__control:checked~label.sk-toggleable__label-arrow:before {content: \"▾\";}#sk-container-id-2 div.sk-estimator input.sk-toggleable__control:checked~label.sk-toggleable__label {background-color: #d4ebff;}#sk-container-id-2 div.sk-label input.sk-toggleable__control:checked~label.sk-toggleable__label {background-color: #d4ebff;}#sk-container-id-2 input.sk-hidden--visually {border: 0;clip: rect(1px 1px 1px 1px);clip: rect(1px, 1px, 1px, 1px);height: 1px;margin: -1px;overflow: hidden;padding: 0;position: absolute;width: 1px;}#sk-container-id-2 div.sk-estimator {font-family: monospace;background-color: #f0f8ff;border: 1px dotted black;border-radius: 0.25em;box-sizing: border-box;margin-bottom: 0.5em;}#sk-container-id-2 div.sk-estimator:hover {background-color: #d4ebff;}#sk-container-id-2 div.sk-parallel-item::after {content: \"\";width: 100%;border-bottom: 1px solid gray;flex-grow: 1;}#sk-container-id-2 div.sk-label:hover label.sk-toggleable__label {background-color: #d4ebff;}#sk-container-id-2 div.sk-serial::before {content: \"\";position: absolute;border-left: 1px solid gray;box-sizing: border-box;top: 0;bottom: 0;left: 50%;z-index: 0;}#sk-container-id-2 div.sk-serial {display: flex;flex-direction: column;align-items: center;background-color: white;padding-right: 0.2em;padding-left: 0.2em;position: relative;}#sk-container-id-2 div.sk-item {position: relative;z-index: 1;}#sk-container-id-2 div.sk-parallel {display: flex;align-items: stretch;justify-content: center;background-color: white;position: relative;}#sk-container-id-2 div.sk-item::before, #sk-container-id-2 div.sk-parallel-item::before {content: \"\";position: absolute;border-left: 1px solid gray;box-sizing: border-box;top: 0;bottom: 0;left: 50%;z-index: -1;}#sk-container-id-2 div.sk-parallel-item {display: flex;flex-direction: column;z-index: 1;position: relative;background-color: white;}#sk-container-id-2 div.sk-parallel-item:first-child::after {align-self: flex-end;width: 50%;}#sk-container-id-2 div.sk-parallel-item:last-child::after {align-self: flex-start;width: 50%;}#sk-container-id-2 div.sk-parallel-item:only-child::after {width: 0;}#sk-container-id-2 div.sk-dashed-wrapped {border: 1px dashed gray;margin: 0 0.4em 0.5em 0.4em;box-sizing: border-box;padding-bottom: 0.4em;background-color: white;}#sk-container-id-2 div.sk-label label {font-family: monospace;font-weight: bold;display: inline-block;line-height: 1.2em;}#sk-container-id-2 div.sk-label-container {text-align: center;}#sk-container-id-2 div.sk-container {/* jupyter's `normalize.less` sets `[hidden] { display: none; }` but bootstrap.min.css set `[hidden] { display: none !important; }` so we also need the `!important` here to be able to override the default hidden behavior on the sphinx rendered scikit-learn.org. See: https://github.com/scikit-learn/scikit-learn/issues/21755 */display: inline-block !important;position: relative;}#sk-container-id-2 div.sk-text-repr-fallback {display: none;}</style><div id=\"sk-container-id-2\" class=\"sk-top-container\"><div class=\"sk-text-repr-fallback\"><pre>GaussianNB()</pre><b>In a Jupyter environment, please rerun this cell to show the HTML representation or trust the notebook. <br />On GitHub, the HTML representation is unable to render, please try loading this page with nbviewer.org.</b></div><div class=\"sk-container\" hidden><div class=\"sk-item\"><div class=\"sk-estimator sk-toggleable\"><input class=\"sk-toggleable__control sk-hidden--visually\" id=\"sk-estimator-id-2\" type=\"checkbox\" checked><label for=\"sk-estimator-id-2\" class=\"sk-toggleable__label sk-toggleable__label-arrow\">GaussianNB</label><div class=\"sk-toggleable__content\"><pre>GaussianNB()</pre></div></div></div></div></div>"
      ],
      "text/plain": [
       "GaussianNB()"
      ]
     },
     "execution_count": 71,
     "metadata": {},
     "output_type": "execute_result"
    }
   ],
   "source": [
    "# Train different classifiers\n",
    "clf1 = RandomForestClassifier(random_state=57)\n",
    "clf2 = AdaBoostClassifier(random_state=57)\n",
    "clf3 = LogisticRegression(random_state=57)\n",
    "clf4 = GaussianNB()\n",
    "\n",
    "clf1.fit(X_train, y_train)\n",
    "clf2.fit(X_train, y_train)\n",
    "clf3.fit(X_train, y_train)\n",
    "clf4.fit(X_train, y_train)\n"
   ]
  },
  {
   "cell_type": "code",
   "execution_count": 80,
   "metadata": {},
   "outputs": [],
   "source": [
    "from scipy.stats import bayes_mvs\n",
    "\n",
    "def decision_fusion(y_preds, method='hard'):\n",
    "    if method == 'hard':\n",
    "        return mode(y_preds, axis=0, keepdims=True)[0][0]\n",
    "    elif method == 'soft':\n",
    "        return np.round(np.mean(y_preds, axis=0))\n",
    "    elif method == 'bayesian':\n",
    "        means, _, _ = bayes_mvs(y_preds.T, alpha=0.95)\n",
    "        return np.array([np.round(means.statistic) for _ in range(y_preds.shape[1])])\n",
    "    else:\n",
    "        raise ValueError(\"Invalid method\")\n"
   ]
  },
  {
   "cell_type": "code",
   "execution_count": 81,
   "metadata": {},
   "outputs": [],
   "source": [
    "y_pred1 = clf1.predict(X_test)\n",
    "y_pred2 = clf2.predict(X_test)\n",
    "y_pred3 = clf3.predict(X_test)\n",
    "y_pred4 = clf4.predict(X_test)\n",
    "\n",
    "y_preds = np.vstack((y_pred1, y_pred2, y_pred3, y_pred4))\n"
   ]
  },
  {
   "cell_type": "code",
   "execution_count": 82,
   "metadata": {},
   "outputs": [],
   "source": [
    "y_pred_hard = decision_fusion(y_preds, method='hard')\n",
    "y_pred_soft = decision_fusion(y_preds, method='soft')\n",
    "y_pred_bayesian = decision_fusion(y_preds, method='bayesian')\n"
   ]
  },
  {
   "cell_type": "code",
   "execution_count": 83,
   "metadata": {},
   "outputs": [
    {
     "name": "stdout",
     "output_type": "stream",
     "text": [
      "Hard Voting Accuracy: 0.9547738693467337\n",
      "Soft Voting Accuracy: 0.9547738693467337\n",
      "Bayesian Consensus Accuracy: 0.6834170854271356\n"
     ]
    }
   ],
   "source": [
    "print(\"Hard Voting Accuracy:\", accuracy_score(y_test, y_pred_hard))\n",
    "print(\"Soft Voting Accuracy:\", accuracy_score(y_test, y_pred_soft))\n",
    "print(\"Bayesian Consensus Accuracy:\", accuracy_score(y_test, y_pred_bayesian))\n"
   ]
  }
 ],
 "metadata": {
  "kernelspec": {
   "display_name": "Python 3.10.4 ('main')",
   "language": "python",
   "name": "python3"
  },
  "language_info": {
   "codemirror_mode": {
    "name": "ipython",
    "version": 3
   },
   "file_extension": ".py",
   "mimetype": "text/x-python",
   "name": "python",
   "nbconvert_exporter": "python",
   "pygments_lexer": "ipython3",
   "version": "3.10.4"
  },
  "orig_nbformat": 4,
  "vscode": {
   "interpreter": {
    "hash": "1f8e2686762ab09629b89a09a6fa0e3bdba9a82af31f05887895beff3b3438cd"
   }
  }
 },
 "nbformat": 4,
 "nbformat_minor": 2
}
